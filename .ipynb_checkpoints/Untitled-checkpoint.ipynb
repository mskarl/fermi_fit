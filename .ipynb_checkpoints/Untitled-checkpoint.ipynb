{
 "cells": [
  {
   "cell_type": "code",
   "execution_count": 1,
   "metadata": {},
   "outputs": [],
   "source": [
    "from astropy.io import fits"
   ]
  },
  {
   "cell_type": "code",
   "execution_count": 2,
   "metadata": {},
   "outputs": [],
   "source": [
    " %config Completer.use_jedi = False"
   ]
  },
  {
   "cell_type": "code",
   "execution_count": 3,
   "metadata": {},
   "outputs": [],
   "source": [
    "sc = fits.open(\"/home/martina/postdoc/fermi_fit/spacecraft/lat_spacecraft_merged.fits\")"
   ]
  },
  {
   "cell_type": "code",
   "execution_count": 5,
   "metadata": {},
   "outputs": [
    {
     "name": "stdout",
     "output_type": "stream",
     "text": [
      "Filename: /home/martina/postdoc/fermi_fit/spacecraft/lat_spacecraft_merged.fits\n",
      "No.    Name      Ver    Type      Cards   Dimensions   Format\n",
      "  0  PRIMARY       1 PrimaryHDU      28   ()      \n",
      "  1  SC_DATA       1 BinTableHDU    157   12425607R x 31C   [D, D, 3E, E, E, D, E, E, E, E, E, E, L, E, E, E, E, E, E, E, J, B, I, D, D, D, D, D, E, E, 3E]   \n"
     ]
    }
   ],
   "source": [
    "sc.info()"
   ]
  },
  {
   "cell_type": "code",
   "execution_count": 7,
   "metadata": {},
   "outputs": [
    {
     "data": {
      "text/plain": [
       "SIMPLE  =                    T / file does conform to FITS standard             \n",
       "BITPIX  =                    8 / number of bits per data pixel                  \n",
       "NAXIS   =                    0 / number of data axes                            \n",
       "EXTEND  =                    T / FITS dataset may contain extensions            \n",
       "COMMENT   FITS (Flexible Image Transport System) format is defined in 'Astronomy\n",
       "COMMENT   and Astrophysics', volume 376, page 359; bibcode: 2001A&A...376..359H \n",
       "CHECKSUM= 'aSAHbQ5GaQAGaQ3G'   / HDU checksum updated 2022-08-16T08:32:36       \n",
       "DATASUM = '0       '           / checksum for image data                        \n",
       "TELESCOP= 'GLAST   '           / name of telescope generating data              \n",
       "INSTRUME= 'LAT     '           / name of instrument generating data             \n",
       "EQUINOX =                2000. / equinox for ra and dec                         \n",
       "RADECSYS= 'FK5     '           / world coord. system for this file (FK5 or FK4) \n",
       "DATE    = '2022-02-28T17:21:07' / file creation date (YYYY-MM-DDThh:mm:ss U     \n",
       "DATE-OBS= '2008-08-04T15:43:36.4941' / START date and time of the observation (U\n",
       "DATE-END= '2022-08-16T06:00:22.3452' / end date and time of the observation (UTC\n",
       "TSTART  =     239557417.494176 / mission time of the START of the observation   \n",
       "TSTOP   =     682322427.345195 / mission time of the end of the observation     \n",
       "TIMESYS = 'TT      '           / type of time system that is used               \n",
       "TIMEUNIT= 's       '           / units for TSTART and TSTOP keywords            \n",
       "GPS_OUT =                    F / whether GPS time was unavailable at any time du\n",
       "MJDREFI =               51910. / Integer part of MJD corresponding to SC clock S\n",
       "MJDREFF =  0.00074287037037037 / Fractional part of MJD corresponding to SC cloc\n",
       "OBSERVER= 'Peter Michelson'    / GLAST/LAT PI                                   \n",
       "FILENAME= 'lat_spacecraft_merged.fits' / name of this file                      \n",
       "ORIGIN  = 'FSSC    '           / name of organization making file               \n",
       "CREATOR = 'FermiDataserver-7.0.0' / software and version creating file          \n",
       "VERSION = '0       '           / release version of the file                    \n",
       "PROC_VER=                  310 / processing version of this file                "
      ]
     },
     "execution_count": 7,
     "metadata": {},
     "output_type": "execute_result"
    }
   ],
   "source": [
    "sc[0].header"
   ]
  },
  {
   "cell_type": "code",
   "execution_count": 10,
   "metadata": {},
   "outputs": [
    {
     "data": {
      "text/plain": [
       "XTENSION= 'BINTABLE'           / binary table extension                         \n",
       "BITPIX  =                    8 / 8-bit bytes                                    \n",
       "NAXIS   =                    2 / 2-dimensional binary table                     \n",
       "NAXIS1  =                  164 / width of table in bytes                        \n",
       "NAXIS2  =             12425607 / number of rows in table                        \n",
       "PCOUNT  =                    0 / size of special data area                      \n",
       "GCOUNT  =                    1 / one data group (required keyword)              \n",
       "TFIELDS =                   31 / number of fields in each row                   \n",
       "TTYPE1  = 'START   '           / STARTing time of interval (Mission Elapsed Time\n",
       "TFORM1  = 'D       '           / data format of field: 8-byte DOUBLE            \n",
       "TTYPE2  = 'STOP    '           / ending time of interval (Mission Elapsed Time) \n",
       "TFORM2  = 'D       '           / data format of field: 8-byte DOUBLE            \n",
       "TTYPE3  = 'SC_POSITION'        / S/C position at START of interval (x,y,z inerti\n",
       "TFORM3  = '3E      '           / data format of field: 4-byte REAL              \n",
       "TTYPE4  = 'LAT_GEO '           / ground point latitude                          \n",
       "TFORM4  = 'E       '           / data format of field: 4-byte REAL              \n",
       "TTYPE5  = 'LON_GEO '           / ground point longitude                         \n",
       "TFORM5  = 'E       '           / data format of field: 4-byte REAL              \n",
       "TTYPE6  = 'RAD_GEO '           / S/C altitude                                   \n",
       "TFORM6  = 'D       '           / data format of field: 8-byte DOUBLE            \n",
       "TTYPE7  = 'RA_ZENITH'          / RA of zenith direction at START                \n",
       "TFORM7  = 'E       '           / data format of field: 8-byte DOUBLE            \n",
       "TTYPE8  = 'DEC_ZENITH'         / Dec of zenith direction at START               \n",
       "TFORM8  = 'E       '           / data format of field: 4-byte REAL              \n",
       "TTYPE9  = 'B_MCILWAIN'         / McIlwain B parameter, magnetic field           \n",
       "TFORM9  = 'E       '           / data format of field: 4-byte REAL              \n",
       "TTYPE10 = 'L_MCILWAIN'         / McIlwain L parameter, distance                 \n",
       "TFORM10 = 'E       '           / data format of field: 4-byte REAL              \n",
       "TTYPE11 = 'GEOMAG_LAT'         / invariant geomagnetic latitude                 \n",
       "TFORM11 = 'E       '           / 4-byte real                                    \n",
       "TTYPE12 = 'LAMBDA  '           / effective geomagnetic latitude (signed to indic\n",
       "TFORM12 = 'E       '           / 4-byte real                                    \n",
       "TTYPE13 = 'IN_SAA  '           / whether spacecraft was in SAA                  \n",
       "TFORM13 = 'L       '           / data format of field: logical                  \n",
       "TTYPE14 = 'RA_SCZ  '           / viewing direction at START (RA of S/C +z axis) \n",
       "TFORM14 = 'E       '           / data format of field: 4-byte REAL              \n",
       "TTYPE15 = 'DEC_SCZ '           / viewing direction at START (Dec of S/C +z axis)\n",
       "TFORM15 = 'E       '           / data format of field: 4-byte REAL              \n",
       "TTYPE16 = 'RA_SCX  '           / viewing direction at START (RA of S/C +x axis) \n",
       "TFORM16 = 'E       '           / data format of field: 4-byte REAL              \n",
       "TTYPE17 = 'DEC_SCX '           / viewing direction at START (Dec of S/C +x axis)\n",
       "TFORM17 = 'E       '           / data format of field: 4-byte REAL              \n",
       "TTYPE18 = 'RA_NPOLE'           / RA of north orbital pole at START              \n",
       "TFORM18 = 'E       '           / data format of field: 4-byte REAL              \n",
       "TTYPE19 = 'DEC_NPOLE'          / Dec of north orbital pole at START             \n",
       "TFORM19 = 'E       '           / data format of field: 4-byte REAL              \n",
       "TTYPE20 = 'ROCK_ANGLE'         / angle z axis from zenith (+=north) at START    \n",
       "TFORM20 = 'E       '           / data format of field: 4-byte REAL              \n",
       "TTYPE21 = 'LAT_MODE'           / attitude mode of LAT                           \n",
       "TFORM21 = 'J       '           / data format of field: 4-byte signed INTEGER    \n",
       "TTYPE22 = 'LAT_CONFIG'         / flag for config. of LAT (1=nominal sci. config)\n",
       "TFORM22 = 'B       '           / data format of field: byte                     \n",
       "TTYPE23 = 'DATA_QUAL'          / flag for quality of data (1=nominal)           \n",
       "TFORM23 = 'I       '           / data format of field: 2-byte signed INTEGER    \n",
       "TTYPE24 = 'LIVETIME'           / livetime                                       \n",
       "TFORM24 = 'D       '           / data format of field: 8-byte DOUBLE            \n",
       "TTYPE25 = 'QSJ_1   '           / First component of SC attitude quaternion      \n",
       "TFORM25 = 'D       '           / 8-byte DOUBLE                                  \n",
       "TTYPE26 = 'QSJ_2   '           / Second component of SC attitude quaternion     \n",
       "TFORM26 = 'D       '           / 8-byte DOUBLE                                  \n",
       "TTYPE27 = 'QSJ_3   '           / Third component of SC attitude quaternion      \n",
       "TFORM27 = 'D       '           / 8-byte DOUBLE                                  \n",
       "TTYPE28 = 'QSJ_4   '           / Fourth component of SC attitude quaternion     \n",
       "TFORM28 = 'D       '           / 8-byte DOUBLE                                  \n",
       "TTYPE29 = 'RA_SUN  '           / RA of Sun                                      \n",
       "TFORM29 = 'E       '           / 4-byte REAL                                    \n",
       "TTYPE30 = 'DEC_SUN '           / DEC of Sun                                     \n",
       "TFORM30 = 'E       '           / 4-byte REAL                                    \n",
       "TTYPE31 = 'SC_VELOCITY'        / S/C velocity at START of interval              \n",
       "TFORM31 = '3E      '           / data format of field: 4-byte REAL              \n",
       "CHECKSUM= 'ciaDdgZ9cgaCcgY9'   / HDU checksum updated 2022-08-16T08:35:43       \n",
       "DATASUM = '4209123948'         / data unit checksum updated 2022-08-16T08:35:43 \n",
       "TELESCOP= 'GLAST   '           / name of telescope generating data              \n",
       "INSTRUME= 'LAT     '           / name of instrument generating data             \n",
       "EQUINOX =                2000. / equinox for ra and dec                         \n",
       "RADECSYS= 'FK5     '           / world coord. system for this file (FK5 or FK4) \n",
       "DATE    = '2022-02-28T17:21:07' / file creation date (YYYY-MM-DDThh:mm:ss U     \n",
       "DATE-OBS= '2008-08-04T15:43:36.4941' / START date and time of the observation (U\n",
       "DATE-END= '2022-08-16T06:00:22.3452' / end date and time of the observation (UTC\n",
       "OBSERVER= 'Peter Michelson'    / GLAST/LAT PI                                   \n",
       "ORIGIN  = 'FSSC    '           / name of organization making file               \n",
       "EXTNAME = 'SC_DATA '           / name of this binary table extension            \n",
       "TSTART  =     239557417.494176 / mission time of the START of the observation   \n",
       "TSTOP   =     682322427.345195 / mission time of the end of the observation     \n",
       "MJDREFI =               51910. / Integer part of MJD corresponding to SC clock S\n",
       "MJDREFF =  0.00074287037037037 / Fractional part of MJD corresponding to SC cloc\n",
       "TIMEUNIT= 's       '           / units for the time related keywords            \n",
       "TIMEZERO=                   0. / clock correction                               \n",
       "TIMESYS = 'TT      '           / type of time system that is used               \n",
       "TIMEREF = 'LOCAL   '           / reference frame used for times                 \n",
       "TASSIGN = 'SATELLITE'          / location where time assignment performed       \n",
       "CLOCKAPP=                    F / whether a clock drift correction has been appli\n",
       "GPS_OUT =                    F / whether GPS time was unavailable at any time du\n",
       "TUNIT1  = 's       '           / physical unit of field                         \n",
       "TLMIN1  =                   0. / minimum value                                  \n",
       "TLMAX1  =         10000000000. / maximum value                                  \n",
       "TUNIT2  = 's       '           / physical unit of field                         \n",
       "TLMIN2  =                   0. / minimum value                                  \n",
       "TLMAX2  =         10000000000. / maximum value                                  \n",
       "TUNIT3  = 'm       '           / physical unit of field                         \n",
       "TUNIT4  = 'deg     '           / physical unit of field                         \n",
       "TLMIN4  =                 -90. / minimum value                                  \n",
       "TLMAX4  =                  90. / maximum value                                  \n",
       "TUNIT5  = 'deg     '           / physical unit of field                         \n",
       "TLMIN5  =                   0. / minimum value                                  \n",
       "TLMAX5  =                 360. / maximum value                                  \n",
       "TUNIT6  = 'm       '           / physical unit of field                         \n",
       "TLMIN6  =                   0. / minimum value                                  \n",
       "TLMAX6  =               10000. / maximum value                                  \n",
       "TUNIT7  = 'deg     '           / physical unit of field: dimensionless          \n",
       "TLMIN7  =                   0. / minimum value                                  \n",
       "TLMAX7  =                 360. / maximum value                                  \n",
       "TUNIT8  = 'deg     '           / physical unit of field: dimensionless          \n",
       "TLMIN8  =                 -90. / minimum value                                  \n",
       "TLMAX8  =                  90. / maximum value                                  \n",
       "TUNIT9  = 'Gauss   '           / physical unit of field                         \n",
       "TLMIN9  =                   0. / minimum value                                  \n",
       "TLMAX9  =                 100. / maximum value                                  \n",
       "TUNIT10 = 'Earth_Radii'        / physical unit of field                         \n",
       "TLMIN10 =                   0. / minimum value                                  \n",
       "TLMAX10 =                 100. / maximum value                                  \n",
       "TLMIN11 =                   0. / minimum value                                  \n",
       "TLMAX11 =                  90. / maximum value                                  \n",
       "TUNIT11 = 'deg     '           / physical unit                                  \n",
       "TLMIN12 =                 -90. / minimum value                                  \n",
       "TLMAX12 =                  90. / maximum value                                  \n",
       "TUNIT12 = 'deg     '           / physical unit                                  \n",
       "TUNIT14 = 'deg     '           / physical unit of field: dimensionless          \n",
       "TLMIN14 =                   0. / minimum value                                  \n",
       "TLMAX14 =                 360. / maximum value                                  \n",
       "TUNIT15 = 'deg     '           / physical unit of field: dimensionless          \n",
       "TLMIN15 =                 -90. / minimum value                                  \n",
       "TLMAX15 =                  90. / maximum value                                  \n",
       "TUNIT16 = 'deg     '           / physical unit of field: dimensionless          \n",
       "TLMIN16 =                   0. / minimum value                                  \n",
       "TLMAX16 =                 360. / maximum value                                  \n",
       "TUNIT17 = 'deg     '           / physical unit of field: dimensionless          \n",
       "TLMIN17 =                 -90. / minimum value                                  \n",
       "TLMAX17 =                  90. / maximum value                                  \n",
       "TUNIT18 = 'deg     '           / physical unit of field: dimensionless          \n",
       "TLMIN18 =                   0. / minimum value                                  \n",
       "TLMAX18 =                 360. / maximum value                                  \n",
       "TUNIT19 = 'deg     '           / physical unit of field: dimensionless          \n",
       "TLMIN19 =                 -90. / minimum value                                  \n",
       "TLMAX19 =                  90. / maximum value                                  \n",
       "TUNIT20 = 'deg     '           / physical unit of field: dimensionless          \n",
       "TLMIN20 =                -180. / minimum value                                  \n",
       "TLMAX20 =                 180. / maximum value                                  \n",
       "TUNIT24 = 's       '           / physical unit of field                         \n",
       "TUNIT29 = 'deg     '           / physical unit of field: degrees                \n",
       "TLMIN29 =                   0. / minimum value                                  \n",
       "TLMAX29 =                 360. / maximum value                                  \n",
       "TUNIT30 = 'deg     '           / physical unit of field: degrees                \n",
       "TLMIN30 =                 -90. / minimum value                                  \n",
       "TLMAX30 =                  90. / maximum value                                  \n",
       "TUNIT31 = 'm/s     '           / physical unit of field                         \n",
       "EXTVER  =                    1 / auto assigned by template parser               "
      ]
     },
     "execution_count": 10,
     "metadata": {},
     "output_type": "execute_result"
    }
   ],
   "source": [
    "sc[\"SC_DATA\"].header"
   ]
  },
  {
   "cell_type": "code",
   "execution_count": 13,
   "metadata": {},
   "outputs": [],
   "source": [
    "test = sc[\"SC_DATA\"]"
   ]
  },
  {
   "cell_type": "code",
   "execution_count": 17,
   "metadata": {},
   "outputs": [
    {
     "data": {
      "text/plain": [
       "ColDefs(\n",
       "    name = 'START'; format = 'D'; unit = 's'\n",
       "    name = 'STOP'; format = 'D'; unit = 's'\n",
       "    name = 'SC_POSITION'; format = '3E'; unit = 'm'\n",
       "    name = 'LAT_GEO'; format = 'E'; unit = 'deg'\n",
       "    name = 'LON_GEO'; format = 'E'; unit = 'deg'\n",
       "    name = 'RAD_GEO'; format = 'D'; unit = 'm'\n",
       "    name = 'RA_ZENITH'; format = 'E'; unit = 'deg'\n",
       "    name = 'DEC_ZENITH'; format = 'E'; unit = 'deg'\n",
       "    name = 'B_MCILWAIN'; format = 'E'; unit = 'Gauss'\n",
       "    name = 'L_MCILWAIN'; format = 'E'; unit = 'Earth_Radii'\n",
       "    name = 'GEOMAG_LAT'; format = 'E'; unit = 'deg'\n",
       "    name = 'LAMBDA'; format = 'E'; unit = 'deg'\n",
       "    name = 'IN_SAA'; format = 'L'\n",
       "    name = 'RA_SCZ'; format = 'E'; unit = 'deg'\n",
       "    name = 'DEC_SCZ'; format = 'E'; unit = 'deg'\n",
       "    name = 'RA_SCX'; format = 'E'; unit = 'deg'\n",
       "    name = 'DEC_SCX'; format = 'E'; unit = 'deg'\n",
       "    name = 'RA_NPOLE'; format = 'E'; unit = 'deg'\n",
       "    name = 'DEC_NPOLE'; format = 'E'; unit = 'deg'\n",
       "    name = 'ROCK_ANGLE'; format = 'E'; unit = 'deg'\n",
       "    name = 'LAT_MODE'; format = 'J'\n",
       "    name = 'LAT_CONFIG'; format = 'B'\n",
       "    name = 'DATA_QUAL'; format = 'I'\n",
       "    name = 'LIVETIME'; format = 'D'; unit = 's'\n",
       "    name = 'QSJ_1'; format = 'D'\n",
       "    name = 'QSJ_2'; format = 'D'\n",
       "    name = 'QSJ_3'; format = 'D'\n",
       "    name = 'QSJ_4'; format = 'D'\n",
       "    name = 'RA_SUN'; format = 'E'; unit = 'deg'\n",
       "    name = 'DEC_SUN'; format = 'E'; unit = 'deg'\n",
       "    name = 'SC_VELOCITY'; format = '3E'; unit = 'm/s'\n",
       ")"
      ]
     },
     "execution_count": 17,
     "metadata": {},
     "output_type": "execute_result"
    }
   ],
   "source": [
    "test.columns"
   ]
  },
  {
   "cell_type": "code",
   "execution_count": 20,
   "metadata": {},
   "outputs": [
    {
     "data": {
      "text/plain": [
       "ColDefs(\n",
       "    name = 'START'; format = 'D'; unit = 's'\n",
       "    name = 'STOP'; format = 'D'; unit = 's'\n",
       "    name = 'SC_POSITION'; format = '3E'; unit = 'm'\n",
       "    name = 'LAT_GEO'; format = 'E'; unit = 'deg'\n",
       "    name = 'LON_GEO'; format = 'E'; unit = 'deg'\n",
       "    name = 'RAD_GEO'; format = 'D'; unit = 'm'\n",
       "    name = 'RA_ZENITH'; format = 'E'; unit = 'deg'\n",
       "    name = 'DEC_ZENITH'; format = 'E'; unit = 'deg'\n",
       "    name = 'B_MCILWAIN'; format = 'E'; unit = 'Gauss'\n",
       "    name = 'L_MCILWAIN'; format = 'E'; unit = 'Earth_Radii'\n",
       "    name = 'GEOMAG_LAT'; format = 'E'; unit = 'deg'\n",
       "    name = 'LAMBDA'; format = 'E'; unit = 'deg'\n",
       "    name = 'IN_SAA'; format = 'L'\n",
       "    name = 'RA_SCZ'; format = 'E'; unit = 'deg'\n",
       "    name = 'DEC_SCZ'; format = 'E'; unit = 'deg'\n",
       "    name = 'RA_SCX'; format = 'E'; unit = 'deg'\n",
       "    name = 'DEC_SCX'; format = 'E'; unit = 'deg'\n",
       "    name = 'RA_NPOLE'; format = 'E'; unit = 'deg'\n",
       "    name = 'DEC_NPOLE'; format = 'E'; unit = 'deg'\n",
       "    name = 'ROCK_ANGLE'; format = 'E'; unit = 'deg'\n",
       "    name = 'LAT_MODE'; format = 'J'\n",
       "    name = 'LAT_CONFIG'; format = 'B'\n",
       "    name = 'DATA_QUAL'; format = 'I'\n",
       "    name = 'LIVETIME'; format = 'D'; unit = 's'\n",
       "    name = 'QSJ_1'; format = 'D'\n",
       "    name = 'QSJ_2'; format = 'D'\n",
       "    name = 'QSJ_3'; format = 'D'\n",
       "    name = 'QSJ_4'; format = 'D'\n",
       "    name = 'RA_SUN'; format = 'E'; unit = 'deg'\n",
       "    name = 'DEC_SUN'; format = 'E'; unit = 'deg'\n",
       "    name = 'SC_VELOCITY'; format = '3E'; unit = 'm/s'\n",
       ")"
      ]
     },
     "execution_count": 20,
     "metadata": {},
     "output_type": "execute_result"
    }
   ],
   "source": [
    "test.columns"
   ]
  },
  {
   "cell_type": "code",
   "execution_count": 24,
   "metadata": {},
   "outputs": [
    {
     "ename": "TypeError",
     "evalue": "'>=' not supported between instances of 'str' and 'int'",
     "output_type": "error",
     "traceback": [
      "\u001b[0;31m---------------------------------------------------------------------------\u001b[0m",
      "\u001b[0;31mTypeError\u001b[0m                                 Traceback (most recent call last)",
      "\u001b[0;32m<ipython-input-24-0444d606dcf7>\u001b[0m in \u001b[0;36m<module>\u001b[0;34m\u001b[0m\n\u001b[0;32m----> 1\u001b[0;31m \u001b[0msc\u001b[0m\u001b[0;34m[\u001b[0m\u001b[0;34m\"SC_DATA\"\u001b[0m\u001b[0;34m]\u001b[0m\u001b[0;34m[\u001b[0m\u001b[0;34m(\u001b[0m\u001b[0;34m\"START\"\u001b[0m \u001b[0;34m>=\u001b[0m \u001b[0;36m666770368\u001b[0m\u001b[0;34m)\u001b[0m \u001b[0;32mand\u001b[0m \u001b[0;34m(\u001b[0m\u001b[0;34m\"STOP\"\u001b[0m \u001b[0;34m<=\u001b[0m \u001b[0;36m682322487.34519481659\u001b[0m\u001b[0;34m)\u001b[0m\u001b[0;34m]\u001b[0m\u001b[0;34m\u001b[0m\u001b[0;34m\u001b[0m\u001b[0m\n\u001b[0m",
      "\u001b[0;31mTypeError\u001b[0m: '>=' not supported between instances of 'str' and 'int'"
     ]
    }
   ],
   "source": [
    "sc[\"SC_DATA\"][(\"START\" >= 666770368) and (\"STOP\" <= 682322487.34519481659)]"
   ]
  },
  {
   "cell_type": "code",
   "execution_count": 30,
   "metadata": {},
   "outputs": [
    {
     "data": {
      "text/plain": [
       "XTENSION= 'BINTABLE'           / binary table extension                         \n",
       "BITPIX  =                    8 / 8-bit bytes                                    \n",
       "NAXIS   =                    2 / 2-dimensional binary table                     \n",
       "NAXIS1  =                  164 / width of table in bytes                        \n",
       "NAXIS2  =             12425607 / number of rows in table                        \n",
       "PCOUNT  =                    0 / size of special data area                      \n",
       "GCOUNT  =                    1 / one data group (required keyword)              \n",
       "TFIELDS =                   31 / number of fields in each row                   \n",
       "TTYPE1  = 'START   '           / STARTing time of interval (Mission Elapsed Time\n",
       "TFORM1  = 'D       '           / data format of field: 8-byte DOUBLE            \n",
       "TTYPE2  = 'STOP    '           / ending time of interval (Mission Elapsed Time) \n",
       "TFORM2  = 'D       '           / data format of field: 8-byte DOUBLE            \n",
       "TTYPE3  = 'SC_POSITION'        / S/C position at START of interval (x,y,z inerti\n",
       "TFORM3  = '3E      '           / data format of field: 4-byte REAL              \n",
       "TTYPE4  = 'LAT_GEO '           / ground point latitude                          \n",
       "TFORM4  = 'E       '           / data format of field: 4-byte REAL              \n",
       "TTYPE5  = 'LON_GEO '           / ground point longitude                         \n",
       "TFORM5  = 'E       '           / data format of field: 4-byte REAL              \n",
       "TTYPE6  = 'RAD_GEO '           / S/C altitude                                   \n",
       "TFORM6  = 'D       '           / data format of field: 8-byte DOUBLE            \n",
       "TTYPE7  = 'RA_ZENITH'          / RA of zenith direction at START                \n",
       "TFORM7  = 'E       '           / data format of field: 8-byte DOUBLE            \n",
       "TTYPE8  = 'DEC_ZENITH'         / Dec of zenith direction at START               \n",
       "TFORM8  = 'E       '           / data format of field: 4-byte REAL              \n",
       "TTYPE9  = 'B_MCILWAIN'         / McIlwain B parameter, magnetic field           \n",
       "TFORM9  = 'E       '           / data format of field: 4-byte REAL              \n",
       "TTYPE10 = 'L_MCILWAIN'         / McIlwain L parameter, distance                 \n",
       "TFORM10 = 'E       '           / data format of field: 4-byte REAL              \n",
       "TTYPE11 = 'GEOMAG_LAT'         / invariant geomagnetic latitude                 \n",
       "TFORM11 = 'E       '           / 4-byte real                                    \n",
       "TTYPE12 = 'LAMBDA  '           / effective geomagnetic latitude (signed to indic\n",
       "TFORM12 = 'E       '           / 4-byte real                                    \n",
       "TTYPE13 = 'IN_SAA  '           / whether spacecraft was in SAA                  \n",
       "TFORM13 = 'L       '           / data format of field: logical                  \n",
       "TTYPE14 = 'RA_SCZ  '           / viewing direction at START (RA of S/C +z axis) \n",
       "TFORM14 = 'E       '           / data format of field: 4-byte REAL              \n",
       "TTYPE15 = 'DEC_SCZ '           / viewing direction at START (Dec of S/C +z axis)\n",
       "TFORM15 = 'E       '           / data format of field: 4-byte REAL              \n",
       "TTYPE16 = 'RA_SCX  '           / viewing direction at START (RA of S/C +x axis) \n",
       "TFORM16 = 'E       '           / data format of field: 4-byte REAL              \n",
       "TTYPE17 = 'DEC_SCX '           / viewing direction at START (Dec of S/C +x axis)\n",
       "TFORM17 = 'E       '           / data format of field: 4-byte REAL              \n",
       "TTYPE18 = 'RA_NPOLE'           / RA of north orbital pole at START              \n",
       "TFORM18 = 'E       '           / data format of field: 4-byte REAL              \n",
       "TTYPE19 = 'DEC_NPOLE'          / Dec of north orbital pole at START             \n",
       "TFORM19 = 'E       '           / data format of field: 4-byte REAL              \n",
       "TTYPE20 = 'ROCK_ANGLE'         / angle z axis from zenith (+=north) at START    \n",
       "TFORM20 = 'E       '           / data format of field: 4-byte REAL              \n",
       "TTYPE21 = 'LAT_MODE'           / attitude mode of LAT                           \n",
       "TFORM21 = 'J       '           / data format of field: 4-byte signed INTEGER    \n",
       "TTYPE22 = 'LAT_CONFIG'         / flag for config. of LAT (1=nominal sci. config)\n",
       "TFORM22 = 'B       '           / data format of field: byte                     \n",
       "TTYPE23 = 'DATA_QUAL'          / flag for quality of data (1=nominal)           \n",
       "TFORM23 = 'I       '           / data format of field: 2-byte signed INTEGER    \n",
       "TTYPE24 = 'LIVETIME'           / livetime                                       \n",
       "TFORM24 = 'D       '           / data format of field: 8-byte DOUBLE            \n",
       "TTYPE25 = 'QSJ_1   '           / First component of SC attitude quaternion      \n",
       "TFORM25 = 'D       '           / 8-byte DOUBLE                                  \n",
       "TTYPE26 = 'QSJ_2   '           / Second component of SC attitude quaternion     \n",
       "TFORM26 = 'D       '           / 8-byte DOUBLE                                  \n",
       "TTYPE27 = 'QSJ_3   '           / Third component of SC attitude quaternion      \n",
       "TFORM27 = 'D       '           / 8-byte DOUBLE                                  \n",
       "TTYPE28 = 'QSJ_4   '           / Fourth component of SC attitude quaternion     \n",
       "TFORM28 = 'D       '           / 8-byte DOUBLE                                  \n",
       "TTYPE29 = 'RA_SUN  '           / RA of Sun                                      \n",
       "TFORM29 = 'E       '           / 4-byte REAL                                    \n",
       "TTYPE30 = 'DEC_SUN '           / DEC of Sun                                     \n",
       "TFORM30 = 'E       '           / 4-byte REAL                                    \n",
       "TTYPE31 = 'SC_VELOCITY'        / S/C velocity at START of interval              \n",
       "TFORM31 = '3E      '           / data format of field: 4-byte REAL              \n",
       "CHECKSUM= 'ciaDdgZ9cgaCcgY9'   / HDU checksum updated 2022-08-16T08:35:43       \n",
       "DATASUM = '4209123948'         / data unit checksum updated 2022-08-16T08:35:43 \n",
       "TELESCOP= 'GLAST   '           / name of telescope generating data              \n",
       "INSTRUME= 'LAT     '           / name of instrument generating data             \n",
       "EQUINOX =                2000. / equinox for ra and dec                         \n",
       "RADECSYS= 'FK5     '           / world coord. system for this file (FK5 or FK4) \n",
       "DATE    = '2022-02-28T17:21:07' / file creation date (YYYY-MM-DDThh:mm:ss U     \n",
       "DATE-OBS= '2008-08-04T15:43:36.4941' / START date and time of the observation (U\n",
       "DATE-END= '2022-08-16T06:00:22.3452' / end date and time of the observation (UTC\n",
       "OBSERVER= 'Peter Michelson'    / GLAST/LAT PI                                   \n",
       "ORIGIN  = 'FSSC    '           / name of organization making file               \n",
       "EXTNAME = 'SC_DATA '           / name of this binary table extension            \n",
       "TSTART  =     239557417.494176 / mission time of the START of the observation   \n",
       "TSTOP   =     682322427.345195 / mission time of the end of the observation     \n",
       "MJDREFI =               51910. / Integer part of MJD corresponding to SC clock S\n",
       "MJDREFF =  0.00074287037037037 / Fractional part of MJD corresponding to SC cloc\n",
       "TIMEUNIT= 's       '           / units for the time related keywords            \n",
       "TIMEZERO=                   0. / clock correction                               \n",
       "TIMESYS = 'TT      '           / type of time system that is used               \n",
       "TIMEREF = 'LOCAL   '           / reference frame used for times                 \n",
       "TASSIGN = 'SATELLITE'          / location where time assignment performed       \n",
       "CLOCKAPP=                    F / whether a clock drift correction has been appli\n",
       "GPS_OUT =                    F / whether GPS time was unavailable at any time du\n",
       "TUNIT1  = 's       '           / physical unit of field                         \n",
       "TLMIN1  =                   0. / minimum value                                  \n",
       "TLMAX1  =         10000000000. / maximum value                                  \n",
       "TUNIT2  = 's       '           / physical unit of field                         \n",
       "TLMIN2  =                   0. / minimum value                                  \n",
       "TLMAX2  =         10000000000. / maximum value                                  \n",
       "TUNIT3  = 'm       '           / physical unit of field                         \n",
       "TUNIT4  = 'deg     '           / physical unit of field                         \n",
       "TLMIN4  =                 -90. / minimum value                                  \n",
       "TLMAX4  =                  90. / maximum value                                  \n",
       "TUNIT5  = 'deg     '           / physical unit of field                         \n",
       "TLMIN5  =                   0. / minimum value                                  \n",
       "TLMAX5  =                 360. / maximum value                                  \n",
       "TUNIT6  = 'm       '           / physical unit of field                         \n",
       "TLMIN6  =                   0. / minimum value                                  \n",
       "TLMAX6  =               10000. / maximum value                                  \n",
       "TUNIT7  = 'deg     '           / physical unit of field: dimensionless          \n",
       "TLMIN7  =                   0. / minimum value                                  \n",
       "TLMAX7  =                 360. / maximum value                                  \n",
       "TUNIT8  = 'deg     '           / physical unit of field: dimensionless          \n",
       "TLMIN8  =                 -90. / minimum value                                  \n",
       "TLMAX8  =                  90. / maximum value                                  \n",
       "TUNIT9  = 'Gauss   '           / physical unit of field                         \n",
       "TLMIN9  =                   0. / minimum value                                  \n",
       "TLMAX9  =                 100. / maximum value                                  \n",
       "TUNIT10 = 'Earth_Radii'        / physical unit of field                         \n",
       "TLMIN10 =                   0. / minimum value                                  \n",
       "TLMAX10 =                 100. / maximum value                                  \n",
       "TLMIN11 =                   0. / minimum value                                  \n",
       "TLMAX11 =                  90. / maximum value                                  \n",
       "TUNIT11 = 'deg     '           / physical unit                                  \n",
       "TLMIN12 =                 -90. / minimum value                                  \n",
       "TLMAX12 =                  90. / maximum value                                  \n",
       "TUNIT12 = 'deg     '           / physical unit                                  \n",
       "TUNIT14 = 'deg     '           / physical unit of field: dimensionless          \n",
       "TLMIN14 =                   0. / minimum value                                  \n",
       "TLMAX14 =                 360. / maximum value                                  \n",
       "TUNIT15 = 'deg     '           / physical unit of field: dimensionless          \n",
       "TLMIN15 =                 -90. / minimum value                                  \n",
       "TLMAX15 =                  90. / maximum value                                  \n",
       "TUNIT16 = 'deg     '           / physical unit of field: dimensionless          \n",
       "TLMIN16 =                   0. / minimum value                                  \n",
       "TLMAX16 =                 360. / maximum value                                  \n",
       "TUNIT17 = 'deg     '           / physical unit of field: dimensionless          \n",
       "TLMIN17 =                 -90. / minimum value                                  \n",
       "TLMAX17 =                  90. / maximum value                                  \n",
       "TUNIT18 = 'deg     '           / physical unit of field: dimensionless          \n",
       "TLMIN18 =                   0. / minimum value                                  \n",
       "TLMAX18 =                 360. / maximum value                                  \n",
       "TUNIT19 = 'deg     '           / physical unit of field: dimensionless          \n",
       "TLMIN19 =                 -90. / minimum value                                  \n",
       "TLMAX19 =                  90. / maximum value                                  \n",
       "TUNIT20 = 'deg     '           / physical unit of field: dimensionless          \n",
       "TLMIN20 =                -180. / minimum value                                  \n",
       "TLMAX20 =                 180. / maximum value                                  \n",
       "TUNIT24 = 's       '           / physical unit of field                         \n",
       "TUNIT29 = 'deg     '           / physical unit of field: degrees                \n",
       "TLMIN29 =                   0. / minimum value                                  \n",
       "TLMAX29 =                 360. / maximum value                                  \n",
       "TUNIT30 = 'deg     '           / physical unit of field: degrees                \n",
       "TLMIN30 =                 -90. / minimum value                                  \n",
       "TLMAX30 =                  90. / maximum value                                  \n",
       "TUNIT31 = 'm/s     '           / physical unit of field                         \n",
       "EXTVER  =                    1 / auto assigned by template parser               "
      ]
     },
     "execution_count": 30,
     "metadata": {},
     "output_type": "execute_result"
    }
   ],
   "source": [
    "test.header"
   ]
  },
  {
   "cell_type": "code",
   "execution_count": 36,
   "metadata": {},
   "outputs": [
    {
     "data": {
      "text/plain": [
       "['START',\n",
       " 'STOP',\n",
       " 'SC_POSITION',\n",
       " 'LAT_GEO',\n",
       " 'LON_GEO',\n",
       " 'RAD_GEO',\n",
       " 'RA_ZENITH',\n",
       " 'DEC_ZENITH',\n",
       " 'B_MCILWAIN',\n",
       " 'L_MCILWAIN',\n",
       " 'GEOMAG_LAT',\n",
       " 'LAMBDA',\n",
       " 'IN_SAA',\n",
       " 'RA_SCZ',\n",
       " 'DEC_SCZ',\n",
       " 'RA_SCX',\n",
       " 'DEC_SCX',\n",
       " 'RA_NPOLE',\n",
       " 'DEC_NPOLE',\n",
       " 'ROCK_ANGLE',\n",
       " 'LAT_MODE',\n",
       " 'LAT_CONFIG',\n",
       " 'DATA_QUAL',\n",
       " 'LIVETIME',\n",
       " 'QSJ_1',\n",
       " 'QSJ_2',\n",
       " 'QSJ_3',\n",
       " 'QSJ_4',\n",
       " 'RA_SUN',\n",
       " 'DEC_SUN',\n",
       " 'SC_VELOCITY']"
      ]
     },
     "execution_count": 36,
     "metadata": {},
     "output_type": "execute_result"
    }
   ],
   "source": [
    "test.columns.names"
   ]
  },
  {
   "cell_type": "code",
   "execution_count": 38,
   "metadata": {},
   "outputs": [
    {
     "ename": "TypeError",
     "evalue": "buffer is too small for requested array",
     "output_type": "error",
     "traceback": [
      "\u001b[0;31m---------------------------------------------------------------------------\u001b[0m",
      "\u001b[0;31mTypeError\u001b[0m                                 Traceback (most recent call last)",
      "\u001b[0;32m<ipython-input-38-f0f288343ce1>\u001b[0m in \u001b[0;36m<module>\u001b[0;34m\u001b[0m\n\u001b[0;32m----> 1\u001b[0;31m \u001b[0mtest\u001b[0m\u001b[0;34m.\u001b[0m\u001b[0mdata\u001b[0m\u001b[0;34m[\u001b[0m\u001b[0;34m\"START\"\u001b[0m\u001b[0;34m]\u001b[0m\u001b[0;34m[\u001b[0m\u001b[0;36m0\u001b[0m\u001b[0;34m]\u001b[0m\u001b[0;34m\u001b[0m\u001b[0;34m\u001b[0m\u001b[0m\n\u001b[0m",
      "\u001b[0;32m~/ice-cube/time_dependence/py_timedep/lib/python3.8/site-packages/astropy/utils/decorators.py\u001b[0m in \u001b[0;36m__get__\u001b[0;34m(self, obj, owner)\u001b[0m\n\u001b[1;32m    756\u001b[0m                 \u001b[0;32mreturn\u001b[0m \u001b[0mval\u001b[0m\u001b[0;34m\u001b[0m\u001b[0;34m\u001b[0m\u001b[0m\n\u001b[1;32m    757\u001b[0m             \u001b[0;32melse\u001b[0m\u001b[0;34m:\u001b[0m\u001b[0;34m\u001b[0m\u001b[0;34m\u001b[0m\u001b[0m\n\u001b[0;32m--> 758\u001b[0;31m                 \u001b[0mval\u001b[0m \u001b[0;34m=\u001b[0m \u001b[0mself\u001b[0m\u001b[0;34m.\u001b[0m\u001b[0mfget\u001b[0m\u001b[0;34m(\u001b[0m\u001b[0mobj\u001b[0m\u001b[0;34m)\u001b[0m\u001b[0;34m\u001b[0m\u001b[0;34m\u001b[0m\u001b[0m\n\u001b[0m\u001b[1;32m    759\u001b[0m                 \u001b[0mobj\u001b[0m\u001b[0;34m.\u001b[0m\u001b[0m__dict__\u001b[0m\u001b[0;34m[\u001b[0m\u001b[0mself\u001b[0m\u001b[0;34m.\u001b[0m\u001b[0m_key\u001b[0m\u001b[0;34m]\u001b[0m \u001b[0;34m=\u001b[0m \u001b[0mval\u001b[0m\u001b[0;34m\u001b[0m\u001b[0;34m\u001b[0m\u001b[0m\n\u001b[1;32m    760\u001b[0m                 \u001b[0;32mreturn\u001b[0m \u001b[0mval\u001b[0m\u001b[0;34m\u001b[0m\u001b[0;34m\u001b[0m\u001b[0m\n",
      "\u001b[0;32m~/ice-cube/time_dependence/py_timedep/lib/python3.8/site-packages/astropy/io/fits/hdu/table.py\u001b[0m in \u001b[0;36mdata\u001b[0;34m(self)\u001b[0m\n\u001b[1;32m    397\u001b[0m     \u001b[0;34m@\u001b[0m\u001b[0mlazyproperty\u001b[0m\u001b[0;34m\u001b[0m\u001b[0;34m\u001b[0m\u001b[0m\n\u001b[1;32m    398\u001b[0m     \u001b[0;32mdef\u001b[0m \u001b[0mdata\u001b[0m\u001b[0;34m(\u001b[0m\u001b[0mself\u001b[0m\u001b[0;34m)\u001b[0m\u001b[0;34m:\u001b[0m\u001b[0;34m\u001b[0m\u001b[0;34m\u001b[0m\u001b[0m\n\u001b[0;32m--> 399\u001b[0;31m         \u001b[0mdata\u001b[0m \u001b[0;34m=\u001b[0m \u001b[0mself\u001b[0m\u001b[0;34m.\u001b[0m\u001b[0m_get_tbdata\u001b[0m\u001b[0;34m(\u001b[0m\u001b[0;34m)\u001b[0m\u001b[0;34m\u001b[0m\u001b[0;34m\u001b[0m\u001b[0m\n\u001b[0m\u001b[1;32m    400\u001b[0m         \u001b[0mdata\u001b[0m\u001b[0;34m.\u001b[0m\u001b[0m_coldefs\u001b[0m \u001b[0;34m=\u001b[0m \u001b[0mself\u001b[0m\u001b[0;34m.\u001b[0m\u001b[0mcolumns\u001b[0m\u001b[0;34m\u001b[0m\u001b[0;34m\u001b[0m\u001b[0m\n\u001b[1;32m    401\u001b[0m         \u001b[0mdata\u001b[0m\u001b[0;34m.\u001b[0m\u001b[0m_character_as_bytes\u001b[0m \u001b[0;34m=\u001b[0m \u001b[0mself\u001b[0m\u001b[0;34m.\u001b[0m\u001b[0m_character_as_bytes\u001b[0m\u001b[0;34m\u001b[0m\u001b[0;34m\u001b[0m\u001b[0m\n",
      "\u001b[0;32m~/ice-cube/time_dependence/py_timedep/lib/python3.8/site-packages/astropy/io/fits/hdu/table.py\u001b[0m in \u001b[0;36m_get_tbdata\u001b[0;34m(self)\u001b[0m\n\u001b[1;32m    169\u001b[0m                                                type=np.rec.recarray)\n\u001b[1;32m    170\u001b[0m         \u001b[0;32melse\u001b[0m\u001b[0;34m:\u001b[0m\u001b[0;34m\u001b[0m\u001b[0;34m\u001b[0m\u001b[0m\n\u001b[0;32m--> 171\u001b[0;31m             raw_data = self._get_raw_data(self._nrows, columns.dtype,\n\u001b[0m\u001b[1;32m    172\u001b[0m                                           self._data_offset)\n\u001b[1;32m    173\u001b[0m             \u001b[0;32mif\u001b[0m \u001b[0mraw_data\u001b[0m \u001b[0;32mis\u001b[0m \u001b[0;32mNone\u001b[0m\u001b[0;34m:\u001b[0m\u001b[0;34m\u001b[0m\u001b[0;34m\u001b[0m\u001b[0m\n",
      "\u001b[0;32m~/ice-cube/time_dependence/py_timedep/lib/python3.8/site-packages/astropy/io/fits/hdu/base.py\u001b[0m in \u001b[0;36m_get_raw_data\u001b[0;34m(self, shape, code, offset)\u001b[0m\n\u001b[1;32m    518\u001b[0m                               offset=offset)\n\u001b[1;32m    519\u001b[0m         \u001b[0;32melif\u001b[0m \u001b[0mself\u001b[0m\u001b[0;34m.\u001b[0m\u001b[0m_file\u001b[0m\u001b[0;34m:\u001b[0m\u001b[0;34m\u001b[0m\u001b[0;34m\u001b[0m\u001b[0m\n\u001b[0;32m--> 520\u001b[0;31m             \u001b[0;32mreturn\u001b[0m \u001b[0mself\u001b[0m\u001b[0;34m.\u001b[0m\u001b[0m_file\u001b[0m\u001b[0;34m.\u001b[0m\u001b[0mreadarray\u001b[0m\u001b[0;34m(\u001b[0m\u001b[0moffset\u001b[0m\u001b[0;34m=\u001b[0m\u001b[0moffset\u001b[0m\u001b[0;34m,\u001b[0m \u001b[0mdtype\u001b[0m\u001b[0;34m=\u001b[0m\u001b[0mcode\u001b[0m\u001b[0;34m,\u001b[0m \u001b[0mshape\u001b[0m\u001b[0;34m=\u001b[0m\u001b[0mshape\u001b[0m\u001b[0;34m)\u001b[0m\u001b[0;34m\u001b[0m\u001b[0;34m\u001b[0m\u001b[0m\n\u001b[0m\u001b[1;32m    521\u001b[0m         \u001b[0;32melse\u001b[0m\u001b[0;34m:\u001b[0m\u001b[0;34m\u001b[0m\u001b[0;34m\u001b[0m\u001b[0m\n\u001b[1;32m    522\u001b[0m             \u001b[0;32mreturn\u001b[0m \u001b[0;32mNone\u001b[0m\u001b[0;34m\u001b[0m\u001b[0;34m\u001b[0m\u001b[0m\n",
      "\u001b[0;32m~/ice-cube/time_dependence/py_timedep/lib/python3.8/site-packages/astropy/io/fits/file.py\u001b[0m in \u001b[0;36mreadarray\u001b[0;34m(self, size, offset, dtype, shape)\u001b[0m\n\u001b[1;32m    328\u001b[0m                             \u001b[0;32mraise\u001b[0m\u001b[0;34m\u001b[0m\u001b[0;34m\u001b[0m\u001b[0m\n\u001b[1;32m    329\u001b[0m \u001b[0;34m\u001b[0m\u001b[0m\n\u001b[0;32m--> 330\u001b[0;31m                 return np.ndarray(shape=shape, dtype=dtype, offset=offset,\n\u001b[0m\u001b[1;32m    331\u001b[0m                                   buffer=self._mmap)\n\u001b[1;32m    332\u001b[0m             \u001b[0;32melse\u001b[0m\u001b[0;34m:\u001b[0m\u001b[0;34m\u001b[0m\u001b[0;34m\u001b[0m\u001b[0m\n",
      "\u001b[0;31mTypeError\u001b[0m: buffer is too small for requested array"
     ]
    }
   ],
   "source": [
    "test.data[\"START\"][0]"
   ]
  },
  {
   "cell_type": "markdown",
   "metadata": {},
   "source": [
    "# reload from previous state and refit SED"
   ]
  },
  {
   "cell_type": "code",
   "execution_count": 1,
   "metadata": {},
   "outputs": [],
   "source": [
    "# do I need to redo the llh fit as well??"
   ]
  },
  {
   "cell_type": "code",
   "execution_count": null,
   "metadata": {},
   "outputs": [],
   "source": [
    "from fermipy.gtanalysis import GTAnalysis"
   ]
  },
  {
   "cell_type": "code",
   "execution_count": 1,
   "metadata": {},
   "outputs": [],
   "source": [
    "import numpy as np\n",
    "import matplotlib.pyplot as plt"
   ]
  },
  {
   "cell_type": "code",
   "execution_count": 8,
   "metadata": {},
   "outputs": [],
   "source": [
    "factor = 3\n",
    "MeV_to_erg = 1.60218e-6\n",
    "ul_ts_threshold = 4\n",
    "\n",
    "def plot_sed(sed):\n",
    "    m = sed['ts'] < ul_ts_threshold\n",
    "    x = sed['e_ctr']/1e3\n",
    "    y = sed['e2dnde']*MeV_to_erg\n",
    "    yerr = sed['e2dnde_err']*MeV_to_erg\n",
    "    yerr_lo = sed['e2dnde_err_lo']*MeV_to_erg\n",
    "    yerr_hi = sed['e2dnde_err_hi']*MeV_to_erg\n",
    "    yul = sed['e2dnde_ul95']*MeV_to_erg\n",
    "    delo = (sed['e_ctr'] - sed['e_min'])/1e3\n",
    "    dehi = (sed['e_max'] - sed['e_ctr'])/1e3\n",
    "    xerr0 = np.vstack((delo[m], dehi[m]))\n",
    "    xerr1 = np.vstack((delo[~m], dehi[~m]))\n",
    "    \n",
    "    plt.errorbar(x[~m], y[~m], xerr=xerr1,\n",
    "                yerr=(yerr_lo[~m], yerr_hi[~m]),\n",
    "                linestyle='', fmt='o')\n",
    "    \n",
    "    serr = 10**np.log10(yul[m]) - 10**(np.log10(yul[m])-0.1/8.*factor)\n",
    "    plt.errorbar(x[m], yul[m], xerr=xerr0,\n",
    "                yerr=serr,  uplims=True, fmt='o')\n",
    "    plt.loglog()\n"
   ]
  },
  {
   "cell_type": "code",
   "execution_count": 6,
   "metadata": {},
   "outputs": [],
   "source": [
    "sed = np.load(\"/home/martina/postdoc/fermi_fit/4FGLJ0103.5+1526/fermi_data/4fgl_j0103.5+1526_sed.npy\", allow_pickle=True).item()"
   ]
  },
  {
   "cell_type": "code",
   "execution_count": 9,
   "metadata": {},
   "outputs": [
    {
     "data": {
      "image/png": "[encoded data removed]",
      "text/plain": [
       "<Figure size 432x288 with 1 Axes>"
      ]
     },
     "metadata": {
      "needs_background": "light"
     },
     "output_type": "display_data"
    }
   ],
   "source": [
    "plot_sed(sed)"
   ]
  },
  {
   "cell_type": "code",
   "execution_count": 12,
   "metadata": {},
   "outputs": [],
   "source": [
    "sed_theo = np.load(\"/home/martina/postdoc/theo/all_blazar_dissection/IC160331A/4FGL_J0103.5+1526/fermi/full_mission/sed.npy\", allow_pickle=True, encoding=\"bytes\").item()"
   ]
  },
  {
   "cell_type": "code",
   "execution_count": null,
   "metadata": {},
   "outputs": [],
   "source": []
  }
 ],
 "metadata": {
  "kernelspec": {
   "display_name": "fermi",
   "language": "python",
   "name": "fermi"
  },
  "language_info": {
   "codemirror_mode": {
    "name": "ipython",
    "version": 3
   },
   "file_extension": ".py",
   "mimetype": "text/x-python",
   "name": "python",
   "nbconvert_exporter": "python",
   "pygments_lexer": "ipython3",
   "version": "3.9.13"
  }
 },
 "nbformat": 4,
 "nbformat_minor": 4
}
